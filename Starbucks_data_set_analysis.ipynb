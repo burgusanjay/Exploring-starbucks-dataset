{
 "cells": [
  {
   "cell_type": "code",
   "execution_count": 1,
   "metadata": {},
   "outputs": [],
   "source": [
    "import pandas as pd"
   ]
  },
  {
   "cell_type": "code",
   "execution_count": 2,
   "metadata": {},
   "outputs": [],
   "source": [
    "from matplotlib import pyplot as plt"
   ]
  },
  {
   "cell_type": "code",
   "execution_count": 3,
   "metadata": {},
   "outputs": [],
   "source": [
    "starbucks = pd.read_csv('directory.csv')"
   ]
  },
  {
   "cell_type": "code",
   "execution_count": 4,
   "metadata": {},
   "outputs": [
    {
     "data": {
      "text/html": [
       "<div>\n",
       "<style scoped>\n",
       "    .dataframe tbody tr th:only-of-type {\n",
       "        vertical-align: middle;\n",
       "    }\n",
       "\n",
       "    .dataframe tbody tr th {\n",
       "        vertical-align: top;\n",
       "    }\n",
       "\n",
       "    .dataframe thead th {\n",
       "        text-align: right;\n",
       "    }\n",
       "</style>\n",
       "<table border=\"1\" class=\"dataframe\">\n",
       "  <thead>\n",
       "    <tr style=\"text-align: right;\">\n",
       "      <th></th>\n",
       "      <th>Brand</th>\n",
       "      <th>Store Number</th>\n",
       "      <th>Store Name</th>\n",
       "      <th>Ownership Type</th>\n",
       "      <th>Street Address</th>\n",
       "      <th>City</th>\n",
       "      <th>State/Province</th>\n",
       "      <th>Country</th>\n",
       "      <th>Postcode</th>\n",
       "      <th>Phone Number</th>\n",
       "      <th>Timezone</th>\n",
       "      <th>Longitude</th>\n",
       "      <th>Latitude</th>\n",
       "    </tr>\n",
       "  </thead>\n",
       "  <tbody>\n",
       "    <tr>\n",
       "      <td>0</td>\n",
       "      <td>Starbucks</td>\n",
       "      <td>47370-257954</td>\n",
       "      <td>Meritxell, 96</td>\n",
       "      <td>Licensed</td>\n",
       "      <td>Av. Meritxell, 96</td>\n",
       "      <td>Andorra la Vella</td>\n",
       "      <td>7</td>\n",
       "      <td>AD</td>\n",
       "      <td>AD500</td>\n",
       "      <td>376818720</td>\n",
       "      <td>GMT+1:00 Europe/Andorra</td>\n",
       "      <td>1.53</td>\n",
       "      <td>42.51</td>\n",
       "    </tr>\n",
       "    <tr>\n",
       "      <td>1</td>\n",
       "      <td>Starbucks</td>\n",
       "      <td>22331-212325</td>\n",
       "      <td>Ajman Drive Thru</td>\n",
       "      <td>Licensed</td>\n",
       "      <td>1 Street 69, Al Jarf</td>\n",
       "      <td>Ajman</td>\n",
       "      <td>AJ</td>\n",
       "      <td>AE</td>\n",
       "      <td>NaN</td>\n",
       "      <td>NaN</td>\n",
       "      <td>GMT+04:00 Asia/Dubai</td>\n",
       "      <td>55.47</td>\n",
       "      <td>25.42</td>\n",
       "    </tr>\n",
       "    <tr>\n",
       "      <td>2</td>\n",
       "      <td>Starbucks</td>\n",
       "      <td>47089-256771</td>\n",
       "      <td>Dana Mall</td>\n",
       "      <td>Licensed</td>\n",
       "      <td>Sheikh Khalifa Bin Zayed St.</td>\n",
       "      <td>Ajman</td>\n",
       "      <td>AJ</td>\n",
       "      <td>AE</td>\n",
       "      <td>NaN</td>\n",
       "      <td>NaN</td>\n",
       "      <td>GMT+04:00 Asia/Dubai</td>\n",
       "      <td>55.47</td>\n",
       "      <td>25.39</td>\n",
       "    </tr>\n",
       "    <tr>\n",
       "      <td>3</td>\n",
       "      <td>Starbucks</td>\n",
       "      <td>22126-218024</td>\n",
       "      <td>Twofour 54</td>\n",
       "      <td>Licensed</td>\n",
       "      <td>Al Salam Street</td>\n",
       "      <td>Abu Dhabi</td>\n",
       "      <td>AZ</td>\n",
       "      <td>AE</td>\n",
       "      <td>NaN</td>\n",
       "      <td>NaN</td>\n",
       "      <td>GMT+04:00 Asia/Dubai</td>\n",
       "      <td>54.38</td>\n",
       "      <td>24.48</td>\n",
       "    </tr>\n",
       "    <tr>\n",
       "      <td>4</td>\n",
       "      <td>Starbucks</td>\n",
       "      <td>17127-178586</td>\n",
       "      <td>Al Ain Tower</td>\n",
       "      <td>Licensed</td>\n",
       "      <td>Khaldiya Area, Abu Dhabi Island</td>\n",
       "      <td>Abu Dhabi</td>\n",
       "      <td>AZ</td>\n",
       "      <td>AE</td>\n",
       "      <td>NaN</td>\n",
       "      <td>NaN</td>\n",
       "      <td>GMT+04:00 Asia/Dubai</td>\n",
       "      <td>54.54</td>\n",
       "      <td>24.51</td>\n",
       "    </tr>\n",
       "    <tr>\n",
       "      <td>...</td>\n",
       "      <td>...</td>\n",
       "      <td>...</td>\n",
       "      <td>...</td>\n",
       "      <td>...</td>\n",
       "      <td>...</td>\n",
       "      <td>...</td>\n",
       "      <td>...</td>\n",
       "      <td>...</td>\n",
       "      <td>...</td>\n",
       "      <td>...</td>\n",
       "      <td>...</td>\n",
       "      <td>...</td>\n",
       "      <td>...</td>\n",
       "    </tr>\n",
       "    <tr>\n",
       "      <td>25595</td>\n",
       "      <td>Starbucks</td>\n",
       "      <td>21401-212072</td>\n",
       "      <td>Rex</td>\n",
       "      <td>Licensed</td>\n",
       "      <td>141 Nguyễn Huệ, Quận 1, Góc đường Pasteur và L...</td>\n",
       "      <td>Thành Phố Hồ Chí Minh</td>\n",
       "      <td>SG</td>\n",
       "      <td>VN</td>\n",
       "      <td>70000</td>\n",
       "      <td>08 3824 4668</td>\n",
       "      <td>GMT+000000 Asia/Saigon</td>\n",
       "      <td>106.70</td>\n",
       "      <td>10.78</td>\n",
       "    </tr>\n",
       "    <tr>\n",
       "      <td>25596</td>\n",
       "      <td>Starbucks</td>\n",
       "      <td>24010-226985</td>\n",
       "      <td>Panorama</td>\n",
       "      <td>Licensed</td>\n",
       "      <td>SN-44, Tòa Nhà Panorama, 208 Trần Văn Trà, Quận 7</td>\n",
       "      <td>Thành Phố Hồ Chí Minh</td>\n",
       "      <td>SG</td>\n",
       "      <td>VN</td>\n",
       "      <td>70000</td>\n",
       "      <td>08 5413 8292</td>\n",
       "      <td>GMT+000000 Asia/Saigon</td>\n",
       "      <td>106.71</td>\n",
       "      <td>10.72</td>\n",
       "    </tr>\n",
       "    <tr>\n",
       "      <td>25597</td>\n",
       "      <td>Starbucks</td>\n",
       "      <td>47608-253804</td>\n",
       "      <td>Rosebank Mall</td>\n",
       "      <td>Licensed</td>\n",
       "      <td>Cnr Tyrwhitt and Cradock Avenue, Rosebank</td>\n",
       "      <td>Johannesburg</td>\n",
       "      <td>GT</td>\n",
       "      <td>ZA</td>\n",
       "      <td>2194</td>\n",
       "      <td>27873500159</td>\n",
       "      <td>GMT+000000 Africa/Johannesburg</td>\n",
       "      <td>28.04</td>\n",
       "      <td>-26.15</td>\n",
       "    </tr>\n",
       "    <tr>\n",
       "      <td>25598</td>\n",
       "      <td>Starbucks</td>\n",
       "      <td>47640-253809</td>\n",
       "      <td>Menlyn Maine</td>\n",
       "      <td>Licensed</td>\n",
       "      <td>Shop 61B, Central Square, Cnr Aramist &amp; Coroba...</td>\n",
       "      <td>Menlyn</td>\n",
       "      <td>GT</td>\n",
       "      <td>ZA</td>\n",
       "      <td>181</td>\n",
       "      <td>NaN</td>\n",
       "      <td>GMT+000000 Africa/Johannesburg</td>\n",
       "      <td>28.28</td>\n",
       "      <td>-25.79</td>\n",
       "    </tr>\n",
       "    <tr>\n",
       "      <td>25599</td>\n",
       "      <td>Starbucks</td>\n",
       "      <td>47609-253286</td>\n",
       "      <td>Mall of Africa</td>\n",
       "      <td>Licensed</td>\n",
       "      <td>Shop 2077, Upper Level, Waterfall City</td>\n",
       "      <td>Midrand</td>\n",
       "      <td>GT</td>\n",
       "      <td>ZA</td>\n",
       "      <td>1682</td>\n",
       "      <td>27873500215</td>\n",
       "      <td>GMT+000000 Africa/Johannesburg</td>\n",
       "      <td>28.11</td>\n",
       "      <td>-26.02</td>\n",
       "    </tr>\n",
       "  </tbody>\n",
       "</table>\n",
       "<p>25600 rows × 13 columns</p>\n",
       "</div>"
      ],
      "text/plain": [
       "           Brand  Store Number        Store Name Ownership Type  \\\n",
       "0      Starbucks  47370-257954     Meritxell, 96       Licensed   \n",
       "1      Starbucks  22331-212325  Ajman Drive Thru       Licensed   \n",
       "2      Starbucks  47089-256771         Dana Mall       Licensed   \n",
       "3      Starbucks  22126-218024        Twofour 54       Licensed   \n",
       "4      Starbucks  17127-178586      Al Ain Tower       Licensed   \n",
       "...          ...           ...               ...            ...   \n",
       "25595  Starbucks  21401-212072               Rex       Licensed   \n",
       "25596  Starbucks  24010-226985          Panorama       Licensed   \n",
       "25597  Starbucks  47608-253804     Rosebank Mall       Licensed   \n",
       "25598  Starbucks  47640-253809      Menlyn Maine       Licensed   \n",
       "25599  Starbucks  47609-253286    Mall of Africa       Licensed   \n",
       "\n",
       "                                          Street Address  \\\n",
       "0                                      Av. Meritxell, 96   \n",
       "1                                   1 Street 69, Al Jarf   \n",
       "2                           Sheikh Khalifa Bin Zayed St.   \n",
       "3                                        Al Salam Street   \n",
       "4                        Khaldiya Area, Abu Dhabi Island   \n",
       "...                                                  ...   \n",
       "25595  141 Nguyễn Huệ, Quận 1, Góc đường Pasteur và L...   \n",
       "25596  SN-44, Tòa Nhà Panorama, 208 Trần Văn Trà, Quận 7   \n",
       "25597          Cnr Tyrwhitt and Cradock Avenue, Rosebank   \n",
       "25598  Shop 61B, Central Square, Cnr Aramist & Coroba...   \n",
       "25599             Shop 2077, Upper Level, Waterfall City   \n",
       "\n",
       "                        City State/Province Country Postcode  Phone Number  \\\n",
       "0           Andorra la Vella              7      AD    AD500     376818720   \n",
       "1                      Ajman             AJ      AE      NaN           NaN   \n",
       "2                      Ajman             AJ      AE      NaN           NaN   \n",
       "3                  Abu Dhabi             AZ      AE      NaN           NaN   \n",
       "4                  Abu Dhabi             AZ      AE      NaN           NaN   \n",
       "...                      ...            ...     ...      ...           ...   \n",
       "25595  Thành Phố Hồ Chí Minh             SG      VN    70000  08 3824 4668   \n",
       "25596  Thành Phố Hồ Chí Minh             SG      VN    70000  08 5413 8292   \n",
       "25597           Johannesburg             GT      ZA     2194   27873500159   \n",
       "25598                 Menlyn             GT      ZA      181           NaN   \n",
       "25599                Midrand             GT      ZA     1682   27873500215   \n",
       "\n",
       "                             Timezone  Longitude  Latitude  \n",
       "0             GMT+1:00 Europe/Andorra       1.53     42.51  \n",
       "1                GMT+04:00 Asia/Dubai      55.47     25.42  \n",
       "2                GMT+04:00 Asia/Dubai      55.47     25.39  \n",
       "3                GMT+04:00 Asia/Dubai      54.38     24.48  \n",
       "4                GMT+04:00 Asia/Dubai      54.54     24.51  \n",
       "...                               ...        ...       ...  \n",
       "25595          GMT+000000 Asia/Saigon     106.70     10.78  \n",
       "25596          GMT+000000 Asia/Saigon     106.71     10.72  \n",
       "25597  GMT+000000 Africa/Johannesburg      28.04    -26.15  \n",
       "25598  GMT+000000 Africa/Johannesburg      28.28    -25.79  \n",
       "25599  GMT+000000 Africa/Johannesburg      28.11    -26.02  \n",
       "\n",
       "[25600 rows x 13 columns]"
      ]
     },
     "execution_count": 4,
     "metadata": {},
     "output_type": "execute_result"
    }
   ],
   "source": [
    "starbucks"
   ]
  },
  {
   "cell_type": "code",
   "execution_count": 5,
   "metadata": {},
   "outputs": [
    {
     "data": {
      "text/plain": [
       "pandas.core.frame.DataFrame"
      ]
     },
     "execution_count": 5,
     "metadata": {},
     "output_type": "execute_result"
    }
   ],
   "source": [
    "type(starbucks)"
   ]
  },
  {
   "cell_type": "code",
   "execution_count": 7,
   "metadata": {},
   "outputs": [],
   "source": [
    "countries = starbucks.groupby('Country').size()"
   ]
  },
  {
   "cell_type": "code",
   "execution_count": 10,
   "metadata": {},
   "outputs": [
    {
     "data": {
      "text/plain": [
       "pandas.core.series.Series"
      ]
     },
     "execution_count": 10,
     "metadata": {},
     "output_type": "execute_result"
    }
   ],
   "source": [
    "type(countries)"
   ]
  },
  {
   "cell_type": "code",
   "execution_count": 17,
   "metadata": {},
   "outputs": [
    {
     "data": {
      "text/html": [
       "<div>\n",
       "<style scoped>\n",
       "    .dataframe tbody tr th:only-of-type {\n",
       "        vertical-align: middle;\n",
       "    }\n",
       "\n",
       "    .dataframe tbody tr th {\n",
       "        vertical-align: top;\n",
       "    }\n",
       "\n",
       "    .dataframe thead th {\n",
       "        text-align: right;\n",
       "    }\n",
       "</style>\n",
       "<table border=\"1\" class=\"dataframe\">\n",
       "  <thead>\n",
       "    <tr style=\"text-align: right;\">\n",
       "      <th></th>\n",
       "      <th>0</th>\n",
       "    </tr>\n",
       "    <tr>\n",
       "      <th>Country</th>\n",
       "      <th></th>\n",
       "    </tr>\n",
       "  </thead>\n",
       "  <tbody>\n",
       "    <tr>\n",
       "      <td>AD</td>\n",
       "      <td>1</td>\n",
       "    </tr>\n",
       "    <tr>\n",
       "      <td>AE</td>\n",
       "      <td>144</td>\n",
       "    </tr>\n",
       "    <tr>\n",
       "      <td>AR</td>\n",
       "      <td>108</td>\n",
       "    </tr>\n",
       "    <tr>\n",
       "      <td>AT</td>\n",
       "      <td>18</td>\n",
       "    </tr>\n",
       "    <tr>\n",
       "      <td>AU</td>\n",
       "      <td>22</td>\n",
       "    </tr>\n",
       "    <tr>\n",
       "      <td>...</td>\n",
       "      <td>...</td>\n",
       "    </tr>\n",
       "    <tr>\n",
       "      <td>TT</td>\n",
       "      <td>3</td>\n",
       "    </tr>\n",
       "    <tr>\n",
       "      <td>TW</td>\n",
       "      <td>394</td>\n",
       "    </tr>\n",
       "    <tr>\n",
       "      <td>US</td>\n",
       "      <td>13608</td>\n",
       "    </tr>\n",
       "    <tr>\n",
       "      <td>VN</td>\n",
       "      <td>25</td>\n",
       "    </tr>\n",
       "    <tr>\n",
       "      <td>ZA</td>\n",
       "      <td>3</td>\n",
       "    </tr>\n",
       "  </tbody>\n",
       "</table>\n",
       "<p>73 rows × 1 columns</p>\n",
       "</div>"
      ],
      "text/plain": [
       "             0\n",
       "Country       \n",
       "AD           1\n",
       "AE         144\n",
       "AR         108\n",
       "AT          18\n",
       "AU          22\n",
       "...        ...\n",
       "TT           3\n",
       "TW         394\n",
       "US       13608\n",
       "VN          25\n",
       "ZA           3\n",
       "\n",
       "[73 rows x 1 columns]"
      ]
     },
     "execution_count": 17,
     "metadata": {},
     "output_type": "execute_result"
    }
   ],
   "source": [
    "countries.to_frame()"
   ]
  },
  {
   "cell_type": "code",
   "execution_count": 23,
   "metadata": {},
   "outputs": [],
   "source": [
    "store_countries = pd.DataFrame(countries).reset_index()\n",
    "store_countries.columns = ['Country', 'count']"
   ]
  },
  {
   "cell_type": "code",
   "execution_count": 24,
   "metadata": {},
   "outputs": [
    {
     "data": {
      "text/html": [
       "<div>\n",
       "<style scoped>\n",
       "    .dataframe tbody tr th:only-of-type {\n",
       "        vertical-align: middle;\n",
       "    }\n",
       "\n",
       "    .dataframe tbody tr th {\n",
       "        vertical-align: top;\n",
       "    }\n",
       "\n",
       "    .dataframe thead th {\n",
       "        text-align: right;\n",
       "    }\n",
       "</style>\n",
       "<table border=\"1\" class=\"dataframe\">\n",
       "  <thead>\n",
       "    <tr style=\"text-align: right;\">\n",
       "      <th></th>\n",
       "      <th>Country</th>\n",
       "      <th>count</th>\n",
       "    </tr>\n",
       "  </thead>\n",
       "  <tbody>\n",
       "    <tr>\n",
       "      <td>0</td>\n",
       "      <td>AD</td>\n",
       "      <td>1</td>\n",
       "    </tr>\n",
       "    <tr>\n",
       "      <td>1</td>\n",
       "      <td>AE</td>\n",
       "      <td>144</td>\n",
       "    </tr>\n",
       "    <tr>\n",
       "      <td>2</td>\n",
       "      <td>AR</td>\n",
       "      <td>108</td>\n",
       "    </tr>\n",
       "    <tr>\n",
       "      <td>3</td>\n",
       "      <td>AT</td>\n",
       "      <td>18</td>\n",
       "    </tr>\n",
       "    <tr>\n",
       "      <td>4</td>\n",
       "      <td>AU</td>\n",
       "      <td>22</td>\n",
       "    </tr>\n",
       "    <tr>\n",
       "      <td>...</td>\n",
       "      <td>...</td>\n",
       "      <td>...</td>\n",
       "    </tr>\n",
       "    <tr>\n",
       "      <td>68</td>\n",
       "      <td>TT</td>\n",
       "      <td>3</td>\n",
       "    </tr>\n",
       "    <tr>\n",
       "      <td>69</td>\n",
       "      <td>TW</td>\n",
       "      <td>394</td>\n",
       "    </tr>\n",
       "    <tr>\n",
       "      <td>70</td>\n",
       "      <td>US</td>\n",
       "      <td>13608</td>\n",
       "    </tr>\n",
       "    <tr>\n",
       "      <td>71</td>\n",
       "      <td>VN</td>\n",
       "      <td>25</td>\n",
       "    </tr>\n",
       "    <tr>\n",
       "      <td>72</td>\n",
       "      <td>ZA</td>\n",
       "      <td>3</td>\n",
       "    </tr>\n",
       "  </tbody>\n",
       "</table>\n",
       "<p>73 rows × 2 columns</p>\n",
       "</div>"
      ],
      "text/plain": [
       "   Country  count\n",
       "0       AD      1\n",
       "1       AE    144\n",
       "2       AR    108\n",
       "3       AT     18\n",
       "4       AU     22\n",
       "..     ...    ...\n",
       "68      TT      3\n",
       "69      TW    394\n",
       "70      US  13608\n",
       "71      VN     25\n",
       "72      ZA      3\n",
       "\n",
       "[73 rows x 2 columns]"
      ]
     },
     "execution_count": 24,
     "metadata": {},
     "output_type": "execute_result"
    }
   ],
   "source": [
    "store_countries"
   ]
  },
  {
   "cell_type": "code",
   "execution_count": 26,
   "metadata": {},
   "outputs": [],
   "source": [
    "max_stores = store_countries.max()"
   ]
  },
  {
   "cell_type": "code",
   "execution_count": 27,
   "metadata": {},
   "outputs": [
    {
     "data": {
      "text/plain": [
       "Country       ZA\n",
       "count      13608\n",
       "dtype: object"
      ]
     },
     "execution_count": 27,
     "metadata": {},
     "output_type": "execute_result"
    }
   ],
   "source": [
    "max_stores"
   ]
  },
  {
   "cell_type": "code",
   "execution_count": 28,
   "metadata": {},
   "outputs": [
    {
     "data": {
      "text/plain": [
       "73"
      ]
     },
     "execution_count": 28,
     "metadata": {},
     "output_type": "execute_result"
    }
   ],
   "source": [
    "len(starbucks.Country.unique())"
   ]
  },
  {
   "cell_type": "code",
   "execution_count": 32,
   "metadata": {},
   "outputs": [
    {
     "data": {
      "text/plain": [
       "US    13608\n",
       "CN     2734\n",
       "CA     1468\n",
       "JP     1237\n",
       "KR      993\n",
       "Name: Country, dtype: int64"
      ]
     },
     "execution_count": 32,
     "metadata": {},
     "output_type": "execute_result"
    }
   ],
   "source": [
    "starbucks.Country.value_counts().head()"
   ]
  },
  {
   "cell_type": "code",
   "execution_count": 58,
   "metadata": {},
   "outputs": [
    {
     "data": {
      "text/plain": [
       "<matplotlib.axes._subplots.AxesSubplot at 0x7fb28c4e91d0>"
      ]
     },
     "execution_count": 58,
     "metadata": {},
     "output_type": "execute_result"
    },
    {
     "data": {
      "image/png": "[encoded data removed]",
      "text/plain": [
       "<Figure size 576x360 with 1 Axes>"
      ]
     },
     "metadata": {
      "needs_background": "light"
     },
     "output_type": "display_data"
    }
   ],
   "source": [
    "fig = plt.figure(figsize=(8,5))\n",
    "ax = fig.add_subplot()\n",
    "ax.set(title = \"Top 10 Countries with Most Number of Starbucks Stores\")\n",
    "starbucks.Country.value_counts().head().plot(kind=\"bar\")"
   ]
  },
  {
   "cell_type": "code",
   "execution_count": 60,
   "metadata": {},
   "outputs": [
    {
     "data": {
      "text/plain": [
       "Company Owned    11932\n",
       "Licensed          9375\n",
       "Joint Venture     3976\n",
       "Franchise          317\n",
       "Name: Ownership Type, dtype: int64"
      ]
     },
     "execution_count": 60,
     "metadata": {},
     "output_type": "execute_result"
    }
   ],
   "source": [
    "starbucks['Ownership Type'].value_counts()"
   ]
  },
  {
   "cell_type": "code",
   "execution_count": 71,
   "metadata": {},
   "outputs": [],
   "source": [
    "Indian_stores = starbucks[starbucks['Country'] == 'IN']"
   ]
  },
  {
   "cell_type": "code",
   "execution_count": 74,
   "metadata": {},
   "outputs": [],
   "source": [
    "#Hyderabad Stores"
   ]
  },
  {
   "cell_type": "code",
   "execution_count": 77,
   "metadata": {},
   "outputs": [
    {
     "data": {
      "text/html": [
       "<div>\n",
       "<style scoped>\n",
       "    .dataframe tbody tr th:only-of-type {\n",
       "        vertical-align: middle;\n",
       "    }\n",
       "\n",
       "    .dataframe tbody tr th {\n",
       "        vertical-align: top;\n",
       "    }\n",
       "\n",
       "    .dataframe thead th {\n",
       "        text-align: right;\n",
       "    }\n",
       "</style>\n",
       "<table border=\"1\" class=\"dataframe\">\n",
       "  <thead>\n",
       "    <tr style=\"text-align: right;\">\n",
       "      <th></th>\n",
       "      <th>Brand</th>\n",
       "      <th>Store Number</th>\n",
       "      <th>Store Name</th>\n",
       "      <th>Ownership Type</th>\n",
       "      <th>Street Address</th>\n",
       "      <th>City</th>\n",
       "      <th>State/Province</th>\n",
       "      <th>Country</th>\n",
       "      <th>Postcode</th>\n",
       "      <th>Phone Number</th>\n",
       "      <th>Timezone</th>\n",
       "      <th>Longitude</th>\n",
       "      <th>Latitude</th>\n",
       "    </tr>\n",
       "  </thead>\n",
       "  <tbody>\n",
       "    <tr>\n",
       "      <td>6634</td>\n",
       "      <td>Starbucks</td>\n",
       "      <td>23149-228271</td>\n",
       "      <td>Banjara Hills</td>\n",
       "      <td>Joint Venture</td>\n",
       "      <td>Lower Ground Floor, GVK One, Road Number 1, Ba...</td>\n",
       "      <td>Hyderabad</td>\n",
       "      <td>AP</td>\n",
       "      <td>IN</td>\n",
       "      <td>500034</td>\n",
       "      <td>NaN</td>\n",
       "      <td>GMT+05:30 Asia/New_Delhi</td>\n",
       "      <td>78.45</td>\n",
       "      <td>17.42</td>\n",
       "    </tr>\n",
       "    <tr>\n",
       "      <td>6635</td>\n",
       "      <td>Starbucks</td>\n",
       "      <td>23191-228548</td>\n",
       "      <td>Kukatpally</td>\n",
       "      <td>Joint Venture</td>\n",
       "      <td>Upper Ground Floor, Forum Sujana Mall, Kukatpally</td>\n",
       "      <td>Hyderabad</td>\n",
       "      <td>AP</td>\n",
       "      <td>IN</td>\n",
       "      <td>500072</td>\n",
       "      <td>NaN</td>\n",
       "      <td>GMT+05:30 Asia/New_Delhi</td>\n",
       "      <td>78.39</td>\n",
       "      <td>17.48</td>\n",
       "    </tr>\n",
       "    <tr>\n",
       "      <td>6636</td>\n",
       "      <td>Starbucks</td>\n",
       "      <td>23193-228546</td>\n",
       "      <td>Madhapur</td>\n",
       "      <td>Joint Venture</td>\n",
       "      <td>Lower Ground Floor, Inorbit Mall, Madhapur</td>\n",
       "      <td>Hyderabad</td>\n",
       "      <td>AP</td>\n",
       "      <td>IN</td>\n",
       "      <td>500081</td>\n",
       "      <td>NaN</td>\n",
       "      <td>GMT+05:30 Asia/New_Delhi</td>\n",
       "      <td>78.39</td>\n",
       "      <td>17.43</td>\n",
       "    </tr>\n",
       "    <tr>\n",
       "      <td>6637</td>\n",
       "      <td>Starbucks</td>\n",
       "      <td>23180-228545</td>\n",
       "      <td>Jubilee Hills</td>\n",
       "      <td>Joint Venture</td>\n",
       "      <td>Ground Floor, Road No. 92, Near Apollo hospita...</td>\n",
       "      <td>Hyderabad</td>\n",
       "      <td>AP</td>\n",
       "      <td>IN</td>\n",
       "      <td>500033</td>\n",
       "      <td>NaN</td>\n",
       "      <td>GMT+05:30 Asia/New_Delhi</td>\n",
       "      <td>78.42</td>\n",
       "      <td>17.42</td>\n",
       "    </tr>\n",
       "    <tr>\n",
       "      <td>6638</td>\n",
       "      <td>Starbucks</td>\n",
       "      <td>24457-238129</td>\n",
       "      <td>Hi-Tech City</td>\n",
       "      <td>Joint Venture</td>\n",
       "      <td>Upper Ground Floor, Phoenix tower A, Opposite ...</td>\n",
       "      <td>Hyderabad</td>\n",
       "      <td>AP</td>\n",
       "      <td>IN</td>\n",
       "      <td>500084</td>\n",
       "      <td>NaN</td>\n",
       "      <td>GMT+05:30 Asia/New_Delhi</td>\n",
       "      <td>78.38</td>\n",
       "      <td>17.45</td>\n",
       "    </tr>\n",
       "    <tr>\n",
       "      <td>6639</td>\n",
       "      <td>Starbucks</td>\n",
       "      <td>23664-232349</td>\n",
       "      <td>Mindspace</td>\n",
       "      <td>Joint Venture</td>\n",
       "      <td>Mindspace, Hitech City</td>\n",
       "      <td>Hyderabad</td>\n",
       "      <td>AP</td>\n",
       "      <td>IN</td>\n",
       "      <td>500081</td>\n",
       "      <td>NaN</td>\n",
       "      <td>GMT+05:30 Asia/New_Delhi</td>\n",
       "      <td>78.38</td>\n",
       "      <td>17.45</td>\n",
       "    </tr>\n",
       "  </tbody>\n",
       "</table>\n",
       "</div>"
      ],
      "text/plain": [
       "          Brand  Store Number     Store Name Ownership Type  \\\n",
       "6634  Starbucks  23149-228271  Banjara Hills  Joint Venture   \n",
       "6635  Starbucks  23191-228548     Kukatpally  Joint Venture   \n",
       "6636  Starbucks  23193-228546       Madhapur  Joint Venture   \n",
       "6637  Starbucks  23180-228545  Jubilee Hills  Joint Venture   \n",
       "6638  Starbucks  24457-238129   Hi-Tech City  Joint Venture   \n",
       "6639  Starbucks  23664-232349      Mindspace  Joint Venture   \n",
       "\n",
       "                                         Street Address       City  \\\n",
       "6634  Lower Ground Floor, GVK One, Road Number 1, Ba...  Hyderabad   \n",
       "6635  Upper Ground Floor, Forum Sujana Mall, Kukatpally  Hyderabad   \n",
       "6636         Lower Ground Floor, Inorbit Mall, Madhapur  Hyderabad   \n",
       "6637  Ground Floor, Road No. 92, Near Apollo hospita...  Hyderabad   \n",
       "6638  Upper Ground Floor, Phoenix tower A, Opposite ...  Hyderabad   \n",
       "6639                             Mindspace, Hitech City  Hyderabad   \n",
       "\n",
       "     State/Province Country Postcode Phone Number                  Timezone  \\\n",
       "6634             AP      IN   500034          NaN  GMT+05:30 Asia/New_Delhi   \n",
       "6635             AP      IN   500072          NaN  GMT+05:30 Asia/New_Delhi   \n",
       "6636             AP      IN   500081          NaN  GMT+05:30 Asia/New_Delhi   \n",
       "6637             AP      IN   500033          NaN  GMT+05:30 Asia/New_Delhi   \n",
       "6638             AP      IN   500084          NaN  GMT+05:30 Asia/New_Delhi   \n",
       "6639             AP      IN   500081          NaN  GMT+05:30 Asia/New_Delhi   \n",
       "\n",
       "      Longitude  Latitude  \n",
       "6634      78.45     17.42  \n",
       "6635      78.39     17.48  \n",
       "6636      78.39     17.43  \n",
       "6637      78.42     17.42  \n",
       "6638      78.38     17.45  \n",
       "6639      78.38     17.45  "
      ]
     },
     "execution_count": 77,
     "metadata": {},
     "output_type": "execute_result"
    }
   ],
   "source": [
    "Indian_stores[Indian_stores['City'] == 'Hyderabad']"
   ]
  },
  {
   "cell_type": "code",
   "execution_count": 78,
   "metadata": {},
   "outputs": [],
   "source": [
    "# Ownership types in India\n",
    "\n",
    "# This is because a foreign company can not directly do business in india\n",
    "# TATA Starbucks Private Limited, formerly known as Tata Starbucks Limited, is a 50:50 joint venture company, \n",
    "# owned by Tata Consumer Products and Starbucks Corporation, that owns and operates Starbucks outlets in India. \n",
    "# The outlets are branded Starbucks \"A Tata Alliance\"."
   ]
  },
  {
   "cell_type": "code",
   "execution_count": 79,
   "metadata": {},
   "outputs": [
    {
     "data": {
      "text/plain": [
       "Joint Venture    88\n",
       "Name: Ownership Type, dtype: int64"
      ]
     },
     "execution_count": 79,
     "metadata": {},
     "output_type": "execute_result"
    }
   ],
   "source": [
    "Indian_stores['Ownership Type'].value_counts()"
   ]
  },
  {
   "cell_type": "code",
   "execution_count": 80,
   "metadata": {},
   "outputs": [
    {
     "data": {
      "text/plain": [
       "MH    43\n",
       "DL    18\n",
       "KA     9\n",
       "AP     6\n",
       "HR     6\n",
       "TN     5\n",
       "UP     1\n",
       "Name: State/Province, dtype: int64"
      ]
     },
     "execution_count": 80,
     "metadata": {},
     "output_type": "execute_result"
    }
   ],
   "source": [
    "Indian_stores['State/Province'].value_counts().head(10)"
   ]
  },
  {
   "cell_type": "code",
   "execution_count": 84,
   "metadata": {},
   "outputs": [
    {
     "data": {
      "image/png": "[encoded data removed]",
      "text/plain": [
       "<Figure size 576x360 with 1 Axes>"
      ]
     },
     "metadata": {
      "needs_background": "light"
     },
     "output_type": "display_data"
    }
   ],
   "source": [
    "fig = plt.figure(figsize=(8,5))\n",
    "ax = fig.add_subplot(111)\n",
    "ax.set(title=\"What all States in India with Starbucks stores?\")\n",
    "Indian_stores['State/Province'].value_counts().head().plot(kind=\"bar\")\n",
    "plt.show()"
   ]
  },
  {
   "cell_type": "code",
   "execution_count": null,
   "metadata": {},
   "outputs": [],
   "source": []
  }
 ],
 "metadata": {
  "kernelspec": {
   "display_name": "Python 3",
   "language": "python",
   "name": "python3"
  },
  "language_info": {
   "codemirror_mode": {
    "name": "ipython",
    "version": 3
   },
   "file_extension": ".py",
   "mimetype": "text/x-python",
   "name": "python",
   "nbconvert_exporter": "python",
   "pygments_lexer": "ipython3",
   "version": "3.7.4"
  }
 },
 "nbformat": 4,
 "nbformat_minor": 2
}
